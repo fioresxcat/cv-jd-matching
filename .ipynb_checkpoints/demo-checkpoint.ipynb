{
 "cells": [
  {
   "cell_type": "code",
   "execution_count": 1,
   "id": "8a555a78-36cf-48f9-9109-ffb720136e67",
   "metadata": {
    "tags": []
   },
   "outputs": [],
   "source": [
    "import os\n",
    "os.environ['TRANSFORMERS_CACHE'] = '/data/tungtx2/tmp/'\n",
    "import numpy as np\n",
    "import pdb\n",
    "import pandas as pd\n",
    "import torch\n",
    "from sentence_transformers import SentenceTransformer"
   ]
  },
  {
   "cell_type": "code",
   "execution_count": 2,
   "id": "6ace5331-c6d9-4543-9106-e930f76220bc",
   "metadata": {
    "tags": []
   },
   "outputs": [
    {
     "data": {
      "text/html": [
       "<div>\n",
       "<style scoped>\n",
       "    .dataframe tbody tr th:only-of-type {\n",
       "        vertical-align: middle;\n",
       "    }\n",
       "\n",
       "    .dataframe tbody tr th {\n",
       "        vertical-align: top;\n",
       "    }\n",
       "\n",
       "    .dataframe thead th {\n",
       "        text-align: right;\n",
       "    }\n",
       "</style>\n",
       "<table border=\"1\" class=\"dataframe\">\n",
       "  <thead>\n",
       "    <tr style=\"text-align: right;\">\n",
       "      <th></th>\n",
       "      <th>Unnamed: 0</th>\n",
       "      <th>Resume_str</th>\n",
       "      <th>Category</th>\n",
       "      <th>Resume</th>\n",
       "      <th>Resume_no_stem</th>\n",
       "      <th>clean</th>\n",
       "      <th>clean_str</th>\n",
       "      <th>clean_no_stem</th>\n",
       "      <th>clean_str_no_stem</th>\n",
       "      <th>resume_summarized</th>\n",
       "    </tr>\n",
       "  </thead>\n",
       "  <tbody>\n",
       "    <tr>\n",
       "      <th>0</th>\n",
       "      <td>0</td>\n",
       "      <td>HR ADMINISTRATOR/MARKETING ASSOCIATE\\...</td>\n",
       "      <td>HR</td>\n",
       "      <td>hr administr market associ hr administr summar...</td>\n",
       "      <td>hr administrator marketing associate hr admini...</td>\n",
       "      <td>['hr', 'administr', 'market', 'associ', 'hr', ...</td>\n",
       "      <td>hr administr market associ hr administr summar...</td>\n",
       "      <td>['hr', 'administrator', 'marketing', 'associat...</td>\n",
       "      <td>hr administrator marketing associate hr admini...</td>\n",
       "      <td>Hilton is a customer service manager with year...</td>\n",
       "    </tr>\n",
       "    <tr>\n",
       "      <th>1</th>\n",
       "      <td>1</td>\n",
       "      <td>HR SPECIALIST, US HR OPERATIONS      ...</td>\n",
       "      <td>HR</td>\n",
       "      <td>hr specialist us hr oper summari versatil medi...</td>\n",
       "      <td>hr specialist us hr operations summary versati...</td>\n",
       "      <td>['hr', 'specialist', 'hr', 'oper', 'summari', ...</td>\n",
       "      <td>hr specialist hr oper summari versatil media p...</td>\n",
       "      <td>['hr', 'specialist', 'hr', 'operations', 'summ...</td>\n",
       "      <td>hr specialist hr operations summary versatile ...</td>\n",
       "      <td>Hr specialist hr operations company city state...</td>\n",
       "    </tr>\n",
       "  </tbody>\n",
       "</table>\n",
       "</div>"
      ],
      "text/plain": [
       "   Unnamed: 0                                         Resume_str Category  \\\n",
       "0           0           HR ADMINISTRATOR/MARKETING ASSOCIATE\\...       HR   \n",
       "1           1           HR SPECIALIST, US HR OPERATIONS      ...       HR   \n",
       "\n",
       "                                              Resume  \\\n",
       "0  hr administr market associ hr administr summar...   \n",
       "1  hr specialist us hr oper summari versatil medi...   \n",
       "\n",
       "                                      Resume_no_stem  \\\n",
       "0  hr administrator marketing associate hr admini...   \n",
       "1  hr specialist us hr operations summary versati...   \n",
       "\n",
       "                                               clean  \\\n",
       "0  ['hr', 'administr', 'market', 'associ', 'hr', ...   \n",
       "1  ['hr', 'specialist', 'hr', 'oper', 'summari', ...   \n",
       "\n",
       "                                           clean_str  \\\n",
       "0  hr administr market associ hr administr summar...   \n",
       "1  hr specialist hr oper summari versatil media p...   \n",
       "\n",
       "                                       clean_no_stem  \\\n",
       "0  ['hr', 'administrator', 'marketing', 'associat...   \n",
       "1  ['hr', 'specialist', 'hr', 'operations', 'summ...   \n",
       "\n",
       "                                   clean_str_no_stem  \\\n",
       "0  hr administrator marketing associate hr admini...   \n",
       "1  hr specialist hr operations summary versatile ...   \n",
       "\n",
       "                                   resume_summarized  \n",
       "0  Hilton is a customer service manager with year...  \n",
       "1  Hr specialist hr operations company city state...  "
      ]
     },
     "execution_count": 2,
     "metadata": {},
     "output_type": "execute_result"
    }
   ],
   "source": [
    "df_rs_summed = pd.read_csv('resume_summarized.csv')\n",
    "df_rs_summed.head(2)"
   ]
  },
  {
   "cell_type": "code",
   "execution_count": 3,
   "id": "84ebc90b-3665-4453-b89b-6cfa5ce44f75",
   "metadata": {
    "tags": []
   },
   "outputs": [
    {
     "data": {
      "text/html": [
       "<div>\n",
       "<style scoped>\n",
       "    .dataframe tbody tr th:only-of-type {\n",
       "        vertical-align: middle;\n",
       "    }\n",
       "\n",
       "    .dataframe tbody tr th {\n",
       "        vertical-align: top;\n",
       "    }\n",
       "\n",
       "    .dataframe thead th {\n",
       "        text-align: right;\n",
       "    }\n",
       "</style>\n",
       "<table border=\"1\" class=\"dataframe\">\n",
       "  <thead>\n",
       "    <tr style=\"text-align: right;\">\n",
       "      <th></th>\n",
       "      <th>job_title</th>\n",
       "      <th>job_description</th>\n",
       "      <th>list_tags</th>\n",
       "      <th>contractor_tier</th>\n",
       "      <th>job_ids</th>\n",
       "      <th>jd_cleaned</th>\n",
       "      <th>job_info</th>\n",
       "      <th>jd_summarized</th>\n",
       "    </tr>\n",
       "  </thead>\n",
       "  <tbody>\n",
       "    <tr>\n",
       "      <th>0</th>\n",
       "      <td>Tiktok followers and video likes</td>\n",
       "      <td>I opened an account and I’m trying to get it v...</td>\n",
       "      <td>Advertising, Graphic Design, YouTube Developme...</td>\n",
       "      <td>Intermediate</td>\n",
       "      <td>0</td>\n",
       "      <td>opened account trying viral followers likes da...</td>\n",
       "      <td>Intermediate-Tiktok followers and video likes-...</td>\n",
       "      <td>A new Tiktok account was created to attract in...</td>\n",
       "    </tr>\n",
       "    <tr>\n",
       "      <th>1</th>\n",
       "      <td>Advisory work re google ads</td>\n",
       "      <td>We are looking for an experienced professional...</td>\n",
       "      <td>Social Media Advertising, Social Media Managem...</td>\n",
       "      <td>Expert</td>\n",
       "      <td>54</td>\n",
       "      <td>looking experienced professional provide advis...</td>\n",
       "      <td>Expert-Advisory work re google ads-looking exp...</td>\n",
       "      <td>Experienced professional is looking for an exp...</td>\n",
       "    </tr>\n",
       "  </tbody>\n",
       "</table>\n",
       "</div>"
      ],
      "text/plain": [
       "                          job_title  \\\n",
       "0  Tiktok followers and video likes   \n",
       "1       Advisory work re google ads   \n",
       "\n",
       "                                     job_description  \\\n",
       "0  I opened an account and I’m trying to get it v...   \n",
       "1  We are looking for an experienced professional...   \n",
       "\n",
       "                                           list_tags contractor_tier  job_ids  \\\n",
       "0  Advertising, Graphic Design, YouTube Developme...    Intermediate        0   \n",
       "1  Social Media Advertising, Social Media Managem...          Expert       54   \n",
       "\n",
       "                                          jd_cleaned  \\\n",
       "0  opened account trying viral followers likes da...   \n",
       "1  looking experienced professional provide advis...   \n",
       "\n",
       "                                            job_info  \\\n",
       "0  Intermediate-Tiktok followers and video likes-...   \n",
       "1  Expert-Advisory work re google ads-looking exp...   \n",
       "\n",
       "                                       jd_summarized  \n",
       "0  A new Tiktok account was created to attract in...  \n",
       "1  Experienced professional is looking for an exp...  "
      ]
     },
     "execution_count": 3,
     "metadata": {},
     "output_type": "execute_result"
    }
   ],
   "source": [
    "df_jd_summed = pd.read_csv('jd_summarized.csv')\n",
    "df_jd_summed.head(2)"
   ]
  },
  {
   "cell_type": "markdown",
   "id": "5f1cf9ce-dad6-4311-8409-6c788c45eb95",
   "metadata": {
    "jp-MarkdownHeadingCollapsed": true,
    "tags": []
   },
   "source": [
    "# Demo summarize text"
   ]
  },
  {
   "cell_type": "code",
   "execution_count": 4,
   "id": "064dd09a-0eb4-4ca0-9b37-aa97d1964827",
   "metadata": {
    "tags": []
   },
   "outputs": [],
   "source": [
    "from transformers import pipeline\n",
    "\n",
    "summarizer = pipeline(\"summarization\", model=\"philschmid/bart-large-cnn-samsum\")"
   ]
  },
  {
   "cell_type": "code",
   "execution_count": 18,
   "id": "25a96790-2b8a-437b-aada-b34e1614026f",
   "metadata": {
    "scrolled": true,
    "tags": []
   },
   "outputs": [
    {
     "name": "stdout",
     "output_type": "stream",
     "text": [
      "ORIGINAL RESUME:  hr administrator marketing associate hr administrator summary dedicated customer service manager years experience hospitality customer service management respected builder leader customer focused teams strives instill shared enthusiastic commitment customer service highlights focused customer satisfaction team management marketing savvy conflict resolution techniques training development skilled multi tasker client relations specialist accomplishments missouri dot supervisor training certification certified ihg customer loyalty marketing segment hilton worldwide general manager training certification accomplished trainer cross server hospitality systems hilton onq micros opera pms fidelio opera reservation ors holidex completed courses seminars customer service sales strategies inventory control loss prevention safety time management leadership performance assessment experience hr administrator marketing associate hr administrator dec current company city state helps develop policies directs coordinates activities employment compensation labor relations benefits training employee services prepares employee separation notices related documentation keeps records benefits plans participation insurance pension plan personnel transactions hires promotions transfers performance reviews terminations employee statistics government reporting advises management appropriate resolution employee relations issues administers benefits programs life health dental insurance pension plans vacation sick leave leave absence employee assistance marketing associate designed created marketing collateral sales meetings trade shows company executives managed house advertising program consisting print media collateral pieces assisted complete design launch company website months created official company page facebook facilitate interaction customers analyzed ratings programming features competitors evaluate effectiveness marketing strategies advanced medical claims analyst mar dec company city state reviewed medical bills accuracy treatments tests hospital stays prior sanctioning claims trained interpret codes icd cpt terminology commonly medical billing fully understand paperwork submitted healthcare providers required organizational analytical skills skills knowledge medical terminology procedures statistics billing standards data analysis laws medical billing assistant general manager jun dec company city state performed duties including limited budgeting financial management accounting human resources payroll purchasing established maintained close working relationships departments hotel ensure maximum operation productivity morale guest service handled daily operations reported directly corporate office hired trained staff overall objectives goals emphasis high customer service marketing advertising working public relations media government local businesses chamber commerce executive support marketing assistant jul jun company city state provided assistance department heads executive marketing customer service human resources managed end operations ensure friendly efficient transactions ensured swift resolution customer issues preserve customer loyalty complying company policies exemplified second customer service delivery interactions customers potential clients reservation office manager jun jul company city state owner partner dec company city state price integrity coordinator aug dec company city state education business administration jefferson college city state business administration marketing advertising high school diploma college prep studies sainte genevieve senior high city state awarded american shrubel leadership scholarship jefferson college skills accounting ads advertising analytical skills benefits billing budgeting clients customer service data analysis delivery documentation employee relations financial management government relations human resources insurance labor relations layout marketing marketing collateral medical billing medical terminology office organizational payroll performance reviews personnel policies posters presentations public relations purchasing reporting statistics website\n",
      "SUMMARIZED RESUME:  Hilton is a customer service manager with years of experience in hospitality and marketing. Hilton is a general manager with a training certification in hospitality systems. Hilton's current company, Dec. City State, helps develop policies, coordinates activities, prepares employee separation notices, keeps records, administers benefits programs, hires promotions, transfers and terminations.\n"
     ]
    }
   ],
   "source": [
    "text = df_rs_summed.iloc[0]['clean_str_no_stem'].strip()\n",
    "summed_text = summarizer(text)[0]['summary_text']\n",
    "print('ORIGINAL RESUME: ', text)\n",
    "print('SUMMARIZED RESUME: ', summed_text)"
   ]
  },
  {
   "cell_type": "markdown",
   "id": "baa0ca42-9bd5-4621-8964-2e8cb3d73a3a",
   "metadata": {
    "jp-MarkdownHeadingCollapsed": true,
    "tags": []
   },
   "source": [
    "# Demo text2vec"
   ]
  },
  {
   "cell_type": "code",
   "execution_count": 19,
   "id": "374d2b85-cc42-4259-b88f-9d63661c54b0",
   "metadata": {
    "tags": []
   },
   "outputs": [],
   "source": [
    "from sentence_transformers import SentenceTransformer\n",
    "\n",
    "minilm_model = SentenceTransformer('sentence-transformers/all-MiniLM-L6-v2')"
   ]
  },
  {
   "cell_type": "code",
   "execution_count": 21,
   "id": "5f4c2fe6-5028-446c-975f-f94d8a0c6b11",
   "metadata": {
    "tags": []
   },
   "outputs": [
    {
     "name": "stdout",
     "output_type": "stream",
     "text": [
      "(384,)\n"
     ]
    }
   ],
   "source": [
    "emb = minilm_model.encode(summed_text)\n",
    "print(emb.shape)"
   ]
  },
  {
   "cell_type": "markdown",
   "id": "4f8f18b5-b593-4365-8717-e212ace9555c",
   "metadata": {},
   "source": [
    "# Demo Model"
   ]
  },
  {
   "cell_type": "code",
   "execution_count": 22,
   "id": "65911453-5706-42fe-84f4-72703c07a8d1",
   "metadata": {
    "tags": []
   },
   "outputs": [],
   "source": [
    "import torch\n",
    "import torch.nn as nn\n",
    "import torch.nn.functional as F\n",
    "\n",
    "import pytorch_lightning as pl\n",
    "import torchmetrics\n",
    "from copy import deepcopy\n",
    "import pdb\n",
    "\n",
    "class Net(nn.Module):\n",
    "    def __init__(self, input_size, hidden_size, output_size) -> None:\n",
    "        super().__init__()\n",
    "        self.fc1 = nn.Linear(input_size, hidden_size)\n",
    "        self.fc2 = nn.Linear(hidden_size, output_size)\n",
    "    \n",
    "    def forward(self, x):\n",
    "        x = self.fc1(x)\n",
    "        x = F.relu(x)\n",
    "        x = self.fc2(x)\n",
    "        return x"
   ]
  },
  {
   "cell_type": "code",
   "execution_count": 29,
   "id": "ee64e55c-217a-4d2b-b0fb-ae8dfb5c8945",
   "metadata": {
    "tags": []
   },
   "outputs": [
    {
     "name": "stdout",
     "output_type": "stream",
     "text": [
      "Loaded model successfully\n"
     ]
    }
   ],
   "source": [
    "ckpt_path = 'ckpt/exp2/epoch=14-train_loss=0.051-val_loss=0.150-train_acc=0.959-val_acc=0.804.ckpt'\n",
    "state = torch.load(ckpt_path, map_location='cpu')['state_dict']\n",
    "for k in list(state.keys()):\n",
    "    state[k.replace('model.', '')] = state.pop(k)\n",
    "\n",
    "model = Net(\n",
    "    input_size=384,\n",
    "    hidden_size=384,\n",
    "    output_size=384\n",
    ")\n",
    "model.load_state_dict(state)\n",
    "print('Loaded model successfully')"
   ]
  },
  {
   "cell_type": "code",
   "execution_count": 30,
   "id": "3e80de0a-ca9d-4425-81cb-6f534e619ef4",
   "metadata": {
    "tags": []
   },
   "outputs": [
    {
     "name": "stdout",
     "output_type": "stream",
     "text": [
      "['Stock management professional years experience working leading retailers. Stock clerk years experience coordinating receipt processing products. Aviation supply specialist company city state tracked inventory and conducted cycle counts audits. Aircraft care aide company city State created a safe environment preventing falls accidents and provided excellent service attention to customers. ', 'Director information technology is a senior project manager with years of experience in the health care private sector, government and non-profit sectors. He has mentored hundreds of project managers in his career. He is also a principal consultant with the company crm practice. ', \"Senior interior designer is a team player and multitasking expert. He consults clients and works as a drafter for his company City State. He is a member of Asid allied member and an iida associate member. He's a certified beginner golf expert and a skier.\"]\n"
     ]
    }
   ],
   "source": [
    "rs_rows = df_rs_summed.sample(3)\n",
    "ls_rs = list(rs_rows['resume_summarized'])\n",
    "print(ls_rs)"
   ]
  },
  {
   "cell_type": "code",
   "execution_count": 31,
   "id": "20bc2d24-622a-42a8-9db5-5de3b8661032",
   "metadata": {
    "scrolled": true,
    "tags": []
   },
   "outputs": [
    {
     "name": "stdout",
     "output_type": "stream",
     "text": [
      "['Intermediate-Data Extraction of Key Contacts - Investment Profile-project goal create universe financial asset managers alternative investments real estate investments infrastructure investments companies provide software asset managers companies identifying key titles relevant contact information total contacts maximum marketing titles company', 'Intermediate-Organize my LEGAL data ,intergrate into my automated personal BOT using the best in AI GPT4 ,python-organize digital data emails set landing page click funnel setup emails mailchimp assist integrating private association platform barter bank time bank wallet type programs integrate monetized platform products data needs scraped organized converted digit digital products', 'Intermediate-Structural Engineer Needed for Permit Building Plans (600sqft Aircrete Dome)-hello seeking competent efficient draftsman complete building plans county zoning permit requires load bearing calculations dome walls plan view complete dimensioned foundation layout details footing type size reinforcements sealed calculations plans engineered slab post tension raft anchors hold downs roof slope drainage plumbing schematic complete dimensions window door sizes cabinet fixture locations sides structure windowsill heights exterior finishes chimney heights wall roof heights cross section structure room labels interior finishes callouts ceiling drop heights cross framing foundation sections roof ventilation calculations electrical schematic meet irc standards domegaia com attached images overview structure type lightweight concrete block plans pdf form thank', 'Expert-CompTia Help-comptia help required touch experience asap', 'Expert-Implement design and create retargeting campaigns using google, Facebook and website-connect existing chime website google ads meta account retargeting create lead generation retargeting ad campaigns google facebook understand create implement integration meta tags strong understanding digital marketing process workflows needed experience chime crm desired looking examine current identify inefficiency reccomend implement improvements', 'Expert-Facebook Advertising For Real Estate Companies-intro run specialised marketing agency called abb marketing helping real estate agents generate leads bookings facebook ads marketing agencies help everybody decided focus generating leads facebook ads realtors job looking rockstar facebook ads expert work deliver amazing results clients facebook account manager work client basis responsible following tasks managing postings generating qualified appointments real estate agents facebook ad requirements previous experience generating leads real estate companies facebook apply apply sending relevant previous work look forward hearing soon abb team', 'Expert-Senior embedded software developer-smoodi developed fully automated self cleaning machine delivers fresh customizable smoothies convenient delivering health happiness world incredible product user experience smoodi launched commercially year looking expand software innovation team improve features user experience reliability automated supply chain management mobile app integration currently filling roles senior developers project management experience junior software application engineers key skill sets include embedded software experience arm based hardware systems firmware development low level programming mechanical devices proficient programming language good understanding object oriented programming oop methods good understanding standard data structures algorithms including understanding run time analysis creating scalable reliable secure framework easy onboarding good understanding multi threaded programming concepts depth knowledge version control ci cd preferred experience linux android development qt framework javascript programming docker micro services optimizing onboarding systems production developing remote monitoring systems reverse ssh fleet management developing state machine based architecture smoodi strong culture supports innovation growth inclusiveness looking team players thrive dynamic environments able wear hats key characteristics look collaborator proficient communicator taking initiative afraid ask questions challenge ideas coachable open feedback passionate developing awe inspiring product experience considered submit response resume project portfolio', 'Expert-Accountant for Business Plan-seeking experienced accountant help create comprehensive business plan event company ideal candidate strong background accounting experience financial analysis budgeting forecasting business planning addition candidate deep understanding hospitality industry familiar metrics conduct analysis determine feasibility business plan develop models projections support business plan create budget aligns business objectives help identify mitigate risks work team refine business plan recommendations improvements present information analysis stakeholders qualifications bachelor degree accounting related field chartered accountant certification preferred years relevant experience accounting analysis hospitality industry knowledge modeling forecasting techniques strong proficiency microsoft excel analysis tools excellent communication interpersonal skills prior experience hospitality industry interested applying position submit resume cover letter mail atm com look forward hearing', 'Intermediate-Need assistance in cyber security project-need assistance cyber security project network analytics forensics share details thanks', 'Entry level-Build website for AI company-small startup vision deep learning chatbot develop looking build website advertise company technology need freelancer team agency build specially experience build website technology company website links developed need estimated budget prefer fix price estimate prefer developed website software company idea content company info image logo deploy website prefer namecheap hosting expectation website modern high tech flat design material design like need wrap idea content https clouds com https www width ai https ascentcore com https www ninetwothree services', 'Intermediate-Thumbnail Designer - Diet and Health Topics-need thumbnail designer health niche themed videos example channels style include health normal body hub gravity transformation health snippets bestie need thumbnails project provide script video description wanting far style need week hour turnaround need reliable turnaround wait days need example similar thumbnail channels example order considered thank', 'Intermediate-MATLAB Project-read image details project needed contains needed', 'Intermediate-Bubble.io Analytics-set tracking bubble app track following events user conversion rate traffic source offers sent offers received offers countered properties claimed property photos uploaded property info updated messages sent offer accepted offer conversion rate average session duration returning users day week month churn rate referral rate referral source', 'Intermediate-Corporate Finance Tutor-corporate finance class basic subjects need help studying midterm final reviews great knowledgeable trustworthy reaching', 'Expert-Part-Time Content Writer for Twitter - Crypto-Banking Startup-hunt skilled social media content writer manage twitter account time company startup merges traditional finance dynamic world cryptocurrency ideal candidate embody magician archetype crafting engaging compelling narratives inspire captivate followers looking follow brand guidelines think outside box propose innovative content strategies align brand vision mission create curate manage content images videos provided monitor listen respond users social way cultivating leads sales develop content calendar schedule posts develop expand community influencer outreach efforts monitor trends social media tools applications channels design strategy requirements proven experience content writer copywriter focus social media content excellent understanding twitter major social media platforms exceptional writing skills ability align brand voice guidelines understanding crypto banking industry audience ability work independently initiative familiarity seo principles practices strong attention commitment delivering high quality work additional information share examples previous work specifically content created twitter provide experience familiarity crypto blockchain defi banking sectors outline strategies angles consider engage audience convey brand identity effectively indicate availability preferred working hours look forward meeting exploring create magic', 'Intermediate-Business Plan-want response share document save share bp document platform', 'Entry level-Need someone to make videos about crypto currency until it hits the revenue requirement-channel called tasty crypto need videos upload creating audience match youtube revenue requirement subscribers watch hours following community guidelines advertiser friendly content guidelines terms service hire higher depending performance channel revenue requirement revenue hit', 'Intermediate-Write program for analysing data preferable in Java or python.-write apliaction read write sql db csv analyse data', 'Intermediate-Marketing-email marketing agency clients creating campaigns', 'Intermediate-Translator required-hi need translater osaka kofu tokyo translate japanese english vice versa marketting japan contact']\n"
     ]
    }
   ],
   "source": [
    "jd_rows = df_jd_summed.sample(20)\n",
    "ls_jd = list(jd_rows['job_info'])\n",
    "print(ls_jd)"
   ]
  },
  {
   "cell_type": "code",
   "execution_count": 55,
   "id": "94056705-1255-4cd3-a2a6-d1a85c790ebe",
   "metadata": {
    "tags": []
   },
   "outputs": [],
   "source": [
    "ls_rs = [\n",
    "    'Iam a hr specialist',\n",
    "    'I am a Software developer with 10 years of exp',\n",
    "]\n",
    "\n",
    "ls_jd = [\n",
    "    'we are hiring people with experience in human resource',\n",
    "    'we need to hire a software developer that require technical skills'\n",
    "]"
   ]
  },
  {
   "cell_type": "code",
   "execution_count": 61,
   "id": "c455f4f3-dbb6-44b3-954d-339adf89183e",
   "metadata": {
    "scrolled": true,
    "tags": []
   },
   "outputs": [
    {
     "name": "stdout",
     "output_type": "stream",
     "text": [
      "RESUME:  Iam a hr specialist\n",
      "\n",
      "MOST SIMILAR JD:  we are hiring people with experience in human resource\n",
      "\n",
      "SCORE:  [0.8310306, 0.6282274]\n"
     ]
    }
   ],
   "source": [
    "def cosine_sim(a, b):\n",
    "    dot_product = np.dot(a, b)\n",
    "    norm_a = np.linalg.norm(a)\n",
    "    norm_b = np.linalg.norm(b)\n",
    "    return dot_product / (norm_a * norm_b)\n",
    "\n",
    "\n",
    "rs = ls_rs[0]\n",
    "rs_emb = minilm_model.encode(rs)\n",
    "with torch.no_grad():\n",
    "    v1 = model(torch.from_numpy(rs_emb).unsqueeze(0))\n",
    "v1 = v1.cpu().numpy()[0]\n",
    "\n",
    "scores, jds = [], []\n",
    "for jd in ls_jd:\n",
    "    jd_emb = minilm_model.encode(jd)\n",
    "    with torch.no_grad():\n",
    "        v2 = model(torch.from_numpy(jd_emb).unsqueeze(0))\n",
    "    v2 = v2.cpu().numpy()[0]\n",
    "    sim = cosine_sim(v1, v2)\n",
    "    # sim = cosine_sim(rs_emb, jd_emb)\n",
    "    scores.append(sim)\n",
    "    jds.append(jd)\n",
    "\n",
    "max_idx = np.argmax(scores)\n",
    "print('RESUME: ', rs)\n",
    "print()\n",
    "print('MOST SIMILAR JD: ', jds[max_idx])\n",
    "print()\n",
    "print('SCORE: ', scores)"
   ]
  },
  {
   "cell_type": "code",
   "execution_count": 34,
   "id": "4914170c-e948-418b-8c3a-e2bc28bb9cda",
   "metadata": {
    "tags": []
   },
   "outputs": [
    {
     "data": {
      "text/plain": [
       "torch.Size([1, 384])"
      ]
     },
     "execution_count": 34,
     "metadata": {},
     "output_type": "execute_result"
    }
   ],
   "source": [
    "v1.shape"
   ]
  }
 ],
 "metadata": {
  "kernelspec": {
   "display_name": "Python 3 (ipykernel)",
   "language": "python",
   "name": "python3"
  },
  "language_info": {
   "codemirror_mode": {
    "name": "ipython",
    "version": 3
   },
   "file_extension": ".py",
   "mimetype": "text/x-python",
   "name": "python",
   "nbconvert_exporter": "python",
   "pygments_lexer": "ipython3",
   "version": "3.7.5"
  }
 },
 "nbformat": 4,
 "nbformat_minor": 5
}
